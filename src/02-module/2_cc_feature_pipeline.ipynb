{
 "cells": [
  {
   "cell_type": "markdown",
   "id": "a03cd759",
   "metadata": {},
   "source": [
    "# Feature Pipeline using Synthetic Data\n",
    "\n",
    "[![Open In Colab](https://colab.research.google.com/assets/colab-badge.svg)](https://colab.research.google.com/github/featurestoreorg/serverless-ml-course/blob/main/src/02-module/2_cc_feature_pipeline.ipynb)\n",
    "\n",
    "**Note**: you may get an error when installing hopsworks on Colab, and it is safe to ignore it.\n",
    "\n",
    "## 🗒️ This notebook is divided in 2 sections:\n",
    "1. Reading the synthetic credit card data and feature engineeing,\n",
    "2. Write the Pandas DataFrames to the feature groups in the feature store.\n"
   ]
  },
  {
   "cell_type": "code",
   "execution_count": 1,
   "id": "6b730276",
   "metadata": {},
   "outputs": [],
   "source": [
    "#!pip install -U hopsworks --quiet\n",
    "!pip install -U faker --quiet"
   ]
  },
  {
   "cell_type": "code",
   "execution_count": 2,
   "id": "aeac6fdc",
   "metadata": {},
   "outputs": [
    {
     "name": "stderr",
     "output_type": "stream",
     "text": [
      "/home/codespace/miniconda3/envs/mlops/lib/python3.11/site-packages/tqdm/auto.py:21: TqdmWarning: IProgress not found. Please update jupyter and ipywidgets. See https://ipywidgets.readthedocs.io/en/stable/user_install.html\n",
      "  from .autonotebook import tqdm as notebook_tqdm\n"
     ]
    }
   ],
   "source": [
    "import pandas as pd\n",
    "import datetime\n",
    "import hopsworks\n",
    "from sml import synthetic_data\n",
    "import random\n",
    "pd.options.mode.chained_assignment = None"
   ]
  },
  {
   "cell_type": "code",
   "execution_count": 3,
   "id": "71c2d6dd",
   "metadata": {},
   "outputs": [
    {
     "name": "stdout",
     "output_type": "stream",
     "text": [
      "2024-03-21 12:30:35\n"
     ]
    }
   ],
   "source": [
    "start_time = (datetime.datetime.now() - datetime.timedelta(hours=24)).strftime(\"%Y-%m-%d %H:%M:%S\")\n",
    "print(start_time)"
   ]
  },
  {
   "cell_type": "code",
   "execution_count": 4,
   "id": "ca60a7d2",
   "metadata": {},
   "outputs": [
    {
     "name": "stdout",
     "output_type": "stream",
     "text": [
      "2024-03-22 12:30:45\n"
     ]
    }
   ],
   "source": [
    "#end_time = (datetime.datetime.now() - datetime.timedelta(hours=24)).strftime(\"%Y-%m-%d %H:%M:%S\")\n",
    "end_time = datetime.datetime.now().strftime(\"%Y-%m-%d %H:%M:%S\")\n",
    "print(end_time)"
   ]
  },
  {
   "cell_type": "code",
   "execution_count": 5,
   "id": "e060fdaa",
   "metadata": {},
   "outputs": [],
   "source": [
    "synthetic_data.FRAUD_RATIO = random.uniform(0.001, 0.005)\n",
    "synthetic_data.TOTAL_UNIQUE_USERS = 1000\n",
    "synthetic_data.TOTAL_UNIQUE_TRANSACTIONS = 54000\n",
    "synthetic_data.CASH_WITHRAWAL_CARDS_TOTAL = 2000\n",
    "synthetic_data.TOTAL_UNIQUE_CASH_WITHDRAWALS = 200\n",
    "synthetic_data.START_DATE=start_time\n",
    "synthetic_data.END_DATE=end_time\n",
    "\n",
    "credit_cards = synthetic_data.generate_list_credit_card_numbers()\n",
    "credit_cards_df = synthetic_data.create_credit_cards_as_df(credit_cards)\n",
    "profiles_df = synthetic_data.create_profiles_as_df(credit_cards)\n",
    "trans_df = synthetic_data.create_transactions_as_df(credit_cards)"
   ]
  },
  {
   "cell_type": "markdown",
   "id": "0ba601c9",
   "metadata": {},
   "source": [
    "## <span style=\"color:#ff5f27;\"> 🛠️ Feature Engineering </span>\n",
    "\n",
    "Fraudulent transactions can differ from regular ones in many different ways. Typical red flags would for instance be a large transaction volume/frequency in the span of a few hours. It could also be the case that elderly people in particular are targeted by fraudsters. To facilitate model learning you will create additional features based on these patterns. In particular, you will create two types of features:\n",
    "1. **Features that aggregate data from different data sources**. This could for instance be the age of a customer at the time of a transaction, which combines the `birthdate` feature from `profiles.csv` with the `datetime` feature from `transactions.csv`.\n",
    "2. **Features that aggregate data from multiple time steps**. An example of this could be the transaction frequency of a credit card in the span of a few hours, which is computed using a window function.\n",
    "\n",
    "Let's start with the first category."
   ]
  },
  {
   "cell_type": "code",
   "execution_count": 6,
   "id": "741f6f20",
   "metadata": {},
   "outputs": [
    {
     "data": {
      "text/html": [
       "<div>\n",
       "<style scoped>\n",
       "    .dataframe tbody tr th:only-of-type {\n",
       "        vertical-align: middle;\n",
       "    }\n",
       "\n",
       "    .dataframe tbody tr th {\n",
       "        vertical-align: top;\n",
       "    }\n",
       "\n",
       "    .dataframe thead th {\n",
       "        text-align: right;\n",
       "    }\n",
       "</style>\n",
       "<table border=\"1\" class=\"dataframe\">\n",
       "  <thead>\n",
       "    <tr style=\"text-align: right;\">\n",
       "      <th></th>\n",
       "      <th>tid</th>\n",
       "      <th>cc_num</th>\n",
       "      <th>datetime</th>\n",
       "      <th>fraud_label</th>\n",
       "    </tr>\n",
       "  </thead>\n",
       "  <tbody>\n",
       "    <tr>\n",
       "      <th>0</th>\n",
       "      <td>b564311a93240aa10d813abab11e0270</td>\n",
       "      <td>4263720412621721</td>\n",
       "      <td>2024-03-21 12:30:38</td>\n",
       "      <td>0</td>\n",
       "    </tr>\n",
       "    <tr>\n",
       "      <th>1</th>\n",
       "      <td>7b0b89f5d9a21927167b68419bdae21a</td>\n",
       "      <td>4975544600922082</td>\n",
       "      <td>2024-03-21 12:30:39</td>\n",
       "      <td>0</td>\n",
       "    </tr>\n",
       "    <tr>\n",
       "      <th>2</th>\n",
       "      <td>52713410a9c36387bab9a5e20f1b896a</td>\n",
       "      <td>4027085330355977</td>\n",
       "      <td>2024-03-21 12:30:40</td>\n",
       "      <td>0</td>\n",
       "    </tr>\n",
       "    <tr>\n",
       "      <th>3</th>\n",
       "      <td>ba0e4f47895c7c76ccae0adb14f6b697</td>\n",
       "      <td>4343236168322947</td>\n",
       "      <td>2024-03-21 12:30:42</td>\n",
       "      <td>0</td>\n",
       "    </tr>\n",
       "    <tr>\n",
       "      <th>4</th>\n",
       "      <td>77e9975c70fa2c25af71554c4b0487d0</td>\n",
       "      <td>4581222106011785</td>\n",
       "      <td>2024-03-21 12:30:45</td>\n",
       "      <td>0</td>\n",
       "    </tr>\n",
       "    <tr>\n",
       "      <th>...</th>\n",
       "      <td>...</td>\n",
       "      <td>...</td>\n",
       "      <td>...</td>\n",
       "      <td>...</td>\n",
       "    </tr>\n",
       "    <tr>\n",
       "      <th>60081</th>\n",
       "      <td>3ee4c9882709e836717b87dcd499863f</td>\n",
       "      <td>4179358160776166</td>\n",
       "      <td>2024-04-09 00:42:46</td>\n",
       "      <td>0</td>\n",
       "    </tr>\n",
       "    <tr>\n",
       "      <th>60082</th>\n",
       "      <td>5622b5d1a1f4eced2a1698c2f24f8193</td>\n",
       "      <td>4179358160776166</td>\n",
       "      <td>2024-04-12 02:42:46</td>\n",
       "      <td>0</td>\n",
       "    </tr>\n",
       "    <tr>\n",
       "      <th>60083</th>\n",
       "      <td>dc90c63128fdbfbf7130acf5b598b7f1</td>\n",
       "      <td>4179358160776166</td>\n",
       "      <td>2024-04-15 04:42:46</td>\n",
       "      <td>0</td>\n",
       "    </tr>\n",
       "    <tr>\n",
       "      <th>60084</th>\n",
       "      <td>c09f748d961e9f430ffe905d5f6b58c8</td>\n",
       "      <td>4179358160776166</td>\n",
       "      <td>2024-04-18 06:42:46</td>\n",
       "      <td>0</td>\n",
       "    </tr>\n",
       "    <tr>\n",
       "      <th>60085</th>\n",
       "      <td>f7e18e3b59dcee4ed36dc1e2e791f161</td>\n",
       "      <td>4179358160776166</td>\n",
       "      <td>2024-04-21 08:42:46</td>\n",
       "      <td>0</td>\n",
       "    </tr>\n",
       "  </tbody>\n",
       "</table>\n",
       "<p>60086 rows × 4 columns</p>\n",
       "</div>"
      ],
      "text/plain": [
       "                                    tid            cc_num            datetime  \\\n",
       "0      b564311a93240aa10d813abab11e0270  4263720412621721 2024-03-21 12:30:38   \n",
       "1      7b0b89f5d9a21927167b68419bdae21a  4975544600922082 2024-03-21 12:30:39   \n",
       "2      52713410a9c36387bab9a5e20f1b896a  4027085330355977 2024-03-21 12:30:40   \n",
       "3      ba0e4f47895c7c76ccae0adb14f6b697  4343236168322947 2024-03-21 12:30:42   \n",
       "4      77e9975c70fa2c25af71554c4b0487d0  4581222106011785 2024-03-21 12:30:45   \n",
       "...                                 ...               ...                 ...   \n",
       "60081  3ee4c9882709e836717b87dcd499863f  4179358160776166 2024-04-09 00:42:46   \n",
       "60082  5622b5d1a1f4eced2a1698c2f24f8193  4179358160776166 2024-04-12 02:42:46   \n",
       "60083  dc90c63128fdbfbf7130acf5b598b7f1  4179358160776166 2024-04-15 04:42:46   \n",
       "60084  c09f748d961e9f430ffe905d5f6b58c8  4179358160776166 2024-04-18 06:42:46   \n",
       "60085  f7e18e3b59dcee4ed36dc1e2e791f161  4179358160776166 2024-04-21 08:42:46   \n",
       "\n",
       "       fraud_label  \n",
       "0                0  \n",
       "1                0  \n",
       "2                0  \n",
       "3                0  \n",
       "4                0  \n",
       "...            ...  \n",
       "60081            0  \n",
       "60082            0  \n",
       "60083            0  \n",
       "60084            0  \n",
       "60085            0  \n",
       "\n",
       "[60086 rows x 4 columns]"
      ]
     },
     "execution_count": 6,
     "metadata": {},
     "output_type": "execute_result"
    }
   ],
   "source": [
    "fraud_labels = trans_df.copy()[[\"tid\", \"cc_num\", \"datetime\", \"fraud_label\"]]\n",
    "fraud_labels"
   ]
  },
  {
   "cell_type": "code",
   "execution_count": 7,
   "id": "4fd45117",
   "metadata": {},
   "outputs": [
    {
     "data": {
      "text/html": [
       "<div>\n",
       "<style scoped>\n",
       "    .dataframe tbody tr th:only-of-type {\n",
       "        vertical-align: middle;\n",
       "    }\n",
       "\n",
       "    .dataframe tbody tr th {\n",
       "        vertical-align: top;\n",
       "    }\n",
       "\n",
       "    .dataframe thead th {\n",
       "        text-align: right;\n",
       "    }\n",
       "</style>\n",
       "<table border=\"1\" class=\"dataframe\">\n",
       "  <thead>\n",
       "    <tr style=\"text-align: right;\">\n",
       "      <th></th>\n",
       "      <th>tid</th>\n",
       "      <th>cc_num</th>\n",
       "      <th>datetime</th>\n",
       "      <th>fraud_label</th>\n",
       "    </tr>\n",
       "  </thead>\n",
       "  <tbody>\n",
       "    <tr>\n",
       "      <th>0</th>\n",
       "      <td>b564311a93240aa10d813abab11e0270</td>\n",
       "      <td>4263720412621721</td>\n",
       "      <td>1711024238000</td>\n",
       "      <td>0</td>\n",
       "    </tr>\n",
       "    <tr>\n",
       "      <th>1</th>\n",
       "      <td>7b0b89f5d9a21927167b68419bdae21a</td>\n",
       "      <td>4975544600922082</td>\n",
       "      <td>1711024239000</td>\n",
       "      <td>0</td>\n",
       "    </tr>\n",
       "    <tr>\n",
       "      <th>2</th>\n",
       "      <td>52713410a9c36387bab9a5e20f1b896a</td>\n",
       "      <td>4027085330355977</td>\n",
       "      <td>1711024240000</td>\n",
       "      <td>0</td>\n",
       "    </tr>\n",
       "    <tr>\n",
       "      <th>3</th>\n",
       "      <td>ba0e4f47895c7c76ccae0adb14f6b697</td>\n",
       "      <td>4343236168322947</td>\n",
       "      <td>1711024242000</td>\n",
       "      <td>0</td>\n",
       "    </tr>\n",
       "    <tr>\n",
       "      <th>4</th>\n",
       "      <td>77e9975c70fa2c25af71554c4b0487d0</td>\n",
       "      <td>4581222106011785</td>\n",
       "      <td>1711024245000</td>\n",
       "      <td>0</td>\n",
       "    </tr>\n",
       "    <tr>\n",
       "      <th>...</th>\n",
       "      <td>...</td>\n",
       "      <td>...</td>\n",
       "      <td>...</td>\n",
       "      <td>...</td>\n",
       "    </tr>\n",
       "    <tr>\n",
       "      <th>60081</th>\n",
       "      <td>3ee4c9882709e836717b87dcd499863f</td>\n",
       "      <td>4179358160776166</td>\n",
       "      <td>1712623366000</td>\n",
       "      <td>0</td>\n",
       "    </tr>\n",
       "    <tr>\n",
       "      <th>60082</th>\n",
       "      <td>5622b5d1a1f4eced2a1698c2f24f8193</td>\n",
       "      <td>4179358160776166</td>\n",
       "      <td>1712889766000</td>\n",
       "      <td>0</td>\n",
       "    </tr>\n",
       "    <tr>\n",
       "      <th>60083</th>\n",
       "      <td>dc90c63128fdbfbf7130acf5b598b7f1</td>\n",
       "      <td>4179358160776166</td>\n",
       "      <td>1713156166000</td>\n",
       "      <td>0</td>\n",
       "    </tr>\n",
       "    <tr>\n",
       "      <th>60084</th>\n",
       "      <td>c09f748d961e9f430ffe905d5f6b58c8</td>\n",
       "      <td>4179358160776166</td>\n",
       "      <td>1713422566000</td>\n",
       "      <td>0</td>\n",
       "    </tr>\n",
       "    <tr>\n",
       "      <th>60085</th>\n",
       "      <td>f7e18e3b59dcee4ed36dc1e2e791f161</td>\n",
       "      <td>4179358160776166</td>\n",
       "      <td>1713688966000</td>\n",
       "      <td>0</td>\n",
       "    </tr>\n",
       "  </tbody>\n",
       "</table>\n",
       "<p>60086 rows × 4 columns</p>\n",
       "</div>"
      ],
      "text/plain": [
       "                                    tid            cc_num       datetime  \\\n",
       "0      b564311a93240aa10d813abab11e0270  4263720412621721  1711024238000   \n",
       "1      7b0b89f5d9a21927167b68419bdae21a  4975544600922082  1711024239000   \n",
       "2      52713410a9c36387bab9a5e20f1b896a  4027085330355977  1711024240000   \n",
       "3      ba0e4f47895c7c76ccae0adb14f6b697  4343236168322947  1711024242000   \n",
       "4      77e9975c70fa2c25af71554c4b0487d0  4581222106011785  1711024245000   \n",
       "...                                 ...               ...            ...   \n",
       "60081  3ee4c9882709e836717b87dcd499863f  4179358160776166  1712623366000   \n",
       "60082  5622b5d1a1f4eced2a1698c2f24f8193  4179358160776166  1712889766000   \n",
       "60083  dc90c63128fdbfbf7130acf5b598b7f1  4179358160776166  1713156166000   \n",
       "60084  c09f748d961e9f430ffe905d5f6b58c8  4179358160776166  1713422566000   \n",
       "60085  f7e18e3b59dcee4ed36dc1e2e791f161  4179358160776166  1713688966000   \n",
       "\n",
       "       fraud_label  \n",
       "0                0  \n",
       "1                0  \n",
       "2                0  \n",
       "3                0  \n",
       "4                0  \n",
       "...            ...  \n",
       "60081            0  \n",
       "60082            0  \n",
       "60083            0  \n",
       "60084            0  \n",
       "60085            0  \n",
       "\n",
       "[60086 rows x 4 columns]"
      ]
     },
     "execution_count": 7,
     "metadata": {},
     "output_type": "execute_result"
    }
   ],
   "source": [
    "from sml import cc_features\n",
    "\n",
    "fraud_labels.datetime = fraud_labels.datetime.map(lambda x: cc_features.date_to_timestamp(x))\n",
    "fraud_labels"
   ]
  },
  {
   "cell_type": "code",
   "execution_count": 8,
   "id": "46abff7f",
   "metadata": {},
   "outputs": [
    {
     "data": {
      "text/html": [
       "<div>\n",
       "<style scoped>\n",
       "    .dataframe tbody tr th:only-of-type {\n",
       "        vertical-align: middle;\n",
       "    }\n",
       "\n",
       "    .dataframe tbody tr th {\n",
       "        vertical-align: top;\n",
       "    }\n",
       "\n",
       "    .dataframe thead th {\n",
       "        text-align: right;\n",
       "    }\n",
       "</style>\n",
       "<table border=\"1\" class=\"dataframe\">\n",
       "  <thead>\n",
       "    <tr style=\"text-align: right;\">\n",
       "      <th></th>\n",
       "      <th>tid</th>\n",
       "      <th>datetime</th>\n",
       "      <th>cc_num</th>\n",
       "      <th>category</th>\n",
       "      <th>amount</th>\n",
       "      <th>latitude</th>\n",
       "      <th>longitude</th>\n",
       "      <th>city</th>\n",
       "      <th>country</th>\n",
       "      <th>fraud_label</th>\n",
       "    </tr>\n",
       "  </thead>\n",
       "  <tbody>\n",
       "    <tr>\n",
       "      <th>0</th>\n",
       "      <td>b564311a93240aa10d813abab11e0270</td>\n",
       "      <td>2024-03-21 12:30:38</td>\n",
       "      <td>4263720412621721</td>\n",
       "      <td>Electronics</td>\n",
       "      <td>456.97</td>\n",
       "      <td>36.025060</td>\n",
       "      <td>-86.779170</td>\n",
       "      <td>Brentwood Estates</td>\n",
       "      <td>US</td>\n",
       "      <td>0</td>\n",
       "    </tr>\n",
       "    <tr>\n",
       "      <th>1</th>\n",
       "      <td>7b0b89f5d9a21927167b68419bdae21a</td>\n",
       "      <td>2024-03-21 12:30:39</td>\n",
       "      <td>4975544600922082</td>\n",
       "      <td>Grocery</td>\n",
       "      <td>71.93</td>\n",
       "      <td>33.410120</td>\n",
       "      <td>-91.061770</td>\n",
       "      <td>Greenville</td>\n",
       "      <td>US</td>\n",
       "      <td>0</td>\n",
       "    </tr>\n",
       "    <tr>\n",
       "      <th>2</th>\n",
       "      <td>52713410a9c36387bab9a5e20f1b896a</td>\n",
       "      <td>2024-03-21 12:30:40</td>\n",
       "      <td>4027085330355977</td>\n",
       "      <td>Restaurant/Cafeteria</td>\n",
       "      <td>10.87</td>\n",
       "      <td>33.036990</td>\n",
       "      <td>-117.291980</td>\n",
       "      <td>Encinitas</td>\n",
       "      <td>US</td>\n",
       "      <td>0</td>\n",
       "    </tr>\n",
       "    <tr>\n",
       "      <th>3</th>\n",
       "      <td>ba0e4f47895c7c76ccae0adb14f6b697</td>\n",
       "      <td>2024-03-21 12:30:42</td>\n",
       "      <td>4343236168322947</td>\n",
       "      <td>Grocery</td>\n",
       "      <td>79.64</td>\n",
       "      <td>29.845760</td>\n",
       "      <td>-90.106740</td>\n",
       "      <td>Estelle</td>\n",
       "      <td>US</td>\n",
       "      <td>0</td>\n",
       "    </tr>\n",
       "    <tr>\n",
       "      <th>4</th>\n",
       "      <td>77e9975c70fa2c25af71554c4b0487d0</td>\n",
       "      <td>2024-03-21 12:30:45</td>\n",
       "      <td>4581222106011785</td>\n",
       "      <td>Holliday/Travel</td>\n",
       "      <td>43.42</td>\n",
       "      <td>40.605380</td>\n",
       "      <td>-73.755130</td>\n",
       "      <td>Far Rockaway</td>\n",
       "      <td>US</td>\n",
       "      <td>0</td>\n",
       "    </tr>\n",
       "    <tr>\n",
       "      <th>...</th>\n",
       "      <td>...</td>\n",
       "      <td>...</td>\n",
       "      <td>...</td>\n",
       "      <td>...</td>\n",
       "      <td>...</td>\n",
       "      <td>...</td>\n",
       "      <td>...</td>\n",
       "      <td>...</td>\n",
       "      <td>...</td>\n",
       "      <td>...</td>\n",
       "    </tr>\n",
       "    <tr>\n",
       "      <th>60081</th>\n",
       "      <td>3ee4c9882709e836717b87dcd499863f</td>\n",
       "      <td>2024-04-09 00:42:46</td>\n",
       "      <td>4179358160776166</td>\n",
       "      <td>Cash Withdrawal</td>\n",
       "      <td>62.36</td>\n",
       "      <td>34.239010</td>\n",
       "      <td>-119.044274</td>\n",
       "      <td>Camarillo</td>\n",
       "      <td>US</td>\n",
       "      <td>0</td>\n",
       "    </tr>\n",
       "    <tr>\n",
       "      <th>60082</th>\n",
       "      <td>5622b5d1a1f4eced2a1698c2f24f8193</td>\n",
       "      <td>2024-04-12 02:42:46</td>\n",
       "      <td>4179358160776166</td>\n",
       "      <td>Cash Withdrawal</td>\n",
       "      <td>79.94</td>\n",
       "      <td>34.248261</td>\n",
       "      <td>-119.041913</td>\n",
       "      <td>Camarillo</td>\n",
       "      <td>US</td>\n",
       "      <td>0</td>\n",
       "    </tr>\n",
       "    <tr>\n",
       "      <th>60083</th>\n",
       "      <td>dc90c63128fdbfbf7130acf5b598b7f1</td>\n",
       "      <td>2024-04-15 04:42:46</td>\n",
       "      <td>4179358160776166</td>\n",
       "      <td>Cash Withdrawal</td>\n",
       "      <td>2.69</td>\n",
       "      <td>34.243697</td>\n",
       "      <td>-119.033705</td>\n",
       "      <td>Camarillo</td>\n",
       "      <td>US</td>\n",
       "      <td>0</td>\n",
       "    </tr>\n",
       "    <tr>\n",
       "      <th>60084</th>\n",
       "      <td>c09f748d961e9f430ffe905d5f6b58c8</td>\n",
       "      <td>2024-04-18 06:42:46</td>\n",
       "      <td>4179358160776166</td>\n",
       "      <td>Cash Withdrawal</td>\n",
       "      <td>16.80</td>\n",
       "      <td>34.234965</td>\n",
       "      <td>-119.040798</td>\n",
       "      <td>Camarillo</td>\n",
       "      <td>US</td>\n",
       "      <td>0</td>\n",
       "    </tr>\n",
       "    <tr>\n",
       "      <th>60085</th>\n",
       "      <td>f7e18e3b59dcee4ed36dc1e2e791f161</td>\n",
       "      <td>2024-04-21 08:42:46</td>\n",
       "      <td>4179358160776166</td>\n",
       "      <td>Cash Withdrawal</td>\n",
       "      <td>82.37</td>\n",
       "      <td>34.239687</td>\n",
       "      <td>-119.038619</td>\n",
       "      <td>Camarillo</td>\n",
       "      <td>US</td>\n",
       "      <td>0</td>\n",
       "    </tr>\n",
       "  </tbody>\n",
       "</table>\n",
       "<p>60086 rows × 10 columns</p>\n",
       "</div>"
      ],
      "text/plain": [
       "                                    tid            datetime            cc_num  \\\n",
       "0      b564311a93240aa10d813abab11e0270 2024-03-21 12:30:38  4263720412621721   \n",
       "1      7b0b89f5d9a21927167b68419bdae21a 2024-03-21 12:30:39  4975544600922082   \n",
       "2      52713410a9c36387bab9a5e20f1b896a 2024-03-21 12:30:40  4027085330355977   \n",
       "3      ba0e4f47895c7c76ccae0adb14f6b697 2024-03-21 12:30:42  4343236168322947   \n",
       "4      77e9975c70fa2c25af71554c4b0487d0 2024-03-21 12:30:45  4581222106011785   \n",
       "...                                 ...                 ...               ...   \n",
       "60081  3ee4c9882709e836717b87dcd499863f 2024-04-09 00:42:46  4179358160776166   \n",
       "60082  5622b5d1a1f4eced2a1698c2f24f8193 2024-04-12 02:42:46  4179358160776166   \n",
       "60083  dc90c63128fdbfbf7130acf5b598b7f1 2024-04-15 04:42:46  4179358160776166   \n",
       "60084  c09f748d961e9f430ffe905d5f6b58c8 2024-04-18 06:42:46  4179358160776166   \n",
       "60085  f7e18e3b59dcee4ed36dc1e2e791f161 2024-04-21 08:42:46  4179358160776166   \n",
       "\n",
       "                   category  amount   latitude   longitude               city  \\\n",
       "0               Electronics  456.97  36.025060  -86.779170  Brentwood Estates   \n",
       "1                   Grocery   71.93  33.410120  -91.061770         Greenville   \n",
       "2      Restaurant/Cafeteria   10.87  33.036990 -117.291980          Encinitas   \n",
       "3                   Grocery   79.64  29.845760  -90.106740            Estelle   \n",
       "4           Holliday/Travel   43.42  40.605380  -73.755130       Far Rockaway   \n",
       "...                     ...     ...        ...         ...                ...   \n",
       "60081       Cash Withdrawal   62.36  34.239010 -119.044274          Camarillo   \n",
       "60082       Cash Withdrawal   79.94  34.248261 -119.041913          Camarillo   \n",
       "60083       Cash Withdrawal    2.69  34.243697 -119.033705          Camarillo   \n",
       "60084       Cash Withdrawal   16.80  34.234965 -119.040798          Camarillo   \n",
       "60085       Cash Withdrawal   82.37  34.239687 -119.038619          Camarillo   \n",
       "\n",
       "      country  fraud_label  \n",
       "0          US            0  \n",
       "1          US            0  \n",
       "2          US            0  \n",
       "3          US            0  \n",
       "4          US            0  \n",
       "...       ...          ...  \n",
       "60081      US            0  \n",
       "60082      US            0  \n",
       "60083      US            0  \n",
       "60084      US            0  \n",
       "60085      US            0  \n",
       "\n",
       "[60086 rows x 10 columns]"
      ]
     },
     "execution_count": 8,
     "metadata": {},
     "output_type": "execute_result"
    }
   ],
   "source": [
    "trans_df"
   ]
  },
  {
   "cell_type": "code",
   "execution_count": 9,
   "id": "fcadef7c",
   "metadata": {},
   "outputs": [],
   "source": [
    "trans_df.drop(['fraud_label'], inplace = True, axis=1)"
   ]
  },
  {
   "cell_type": "code",
   "execution_count": 10,
   "id": "3d242a03",
   "metadata": {},
   "outputs": [],
   "source": [
    "trans_df = cc_features.card_owner_age(trans_df, profiles_df)\n",
    "trans_df = cc_features.expiry_days(trans_df, credit_cards_df)\n",
    "trans_df = cc_features.activity_level(trans_df, 1)"
   ]
  },
  {
   "cell_type": "code",
   "execution_count": 11,
   "id": "9884c382",
   "metadata": {},
   "outputs": [],
   "source": [
    "window_len = 4\n",
    "window_aggs_df = cc_features.aggregate_activity_by_hour(trans_df, window_len)"
   ]
  },
  {
   "cell_type": "markdown",
   "id": "3acfeba9",
   "metadata": {},
   "source": [
    "Next, you will create features that for each credit card aggregate data from multiple time steps.\n",
    "\n",
    "Yoy will start by computing the distance between consecutive transactions, lets call it `loc_delta`.\n",
    "Here you will use the [Haversine distance](https://scikit-learn.org/stable/modules/generated/sklearn.metrics.pairwise.haversine_distances.html?highlight=haversine#sklearn.metrics.pairwise.haversine_distances) to quantify the distance between two longitude and latitude coordinates."
   ]
  },
  {
   "cell_type": "markdown",
   "id": "deda57e8",
   "metadata": {},
   "source": [
    "Next lets compute windowed aggregates. Here you will use 4-hour windows, but feel free to experiment with different window lengths by setting `window_len` below to a value of your choice."
   ]
  },
  {
   "cell_type": "code",
   "execution_count": 12,
   "id": "cf3ce8b0",
   "metadata": {},
   "outputs": [
    {
     "name": "stdout",
     "output_type": "stream",
     "text": [
      "Copy your Api Key (first register/login): https://c.app.hopsworks.ai/account/api/generated\n",
      "Connected. Call `.close()` to terminate connection gracefully.\n",
      "\n",
      "Logged in to project, explore it here https://c.app.hopsworks.ai:443/p/556180\n",
      "Connected. Call `.close()` to terminate connection gracefully.\n"
     ]
    }
   ],
   "source": [
    "project = hopsworks.login()\n",
    "fs = project.get_feature_store()"
   ]
  },
  {
   "cell_type": "markdown",
   "id": "9c8c224e",
   "metadata": {},
   "source": [
    "To create a feature group you need to give it a name and specify a primary key. It is also good to provide a description of the contents of the feature group and a version number, if it is not defined it will automatically be incremented to `1`."
   ]
  },
  {
   "cell_type": "code",
   "execution_count": 14,
   "id": "32d5258d",
   "metadata": {},
   "outputs": [
    {
     "name": "stderr",
     "output_type": "stream",
     "text": [
      "Uploading Dataframe: 100.00% |██████████| Rows 60086/60086 | Elapsed Time: 00:09 | Remaining Time: 00:00\n"
     ]
    },
    {
     "name": "stdout",
     "output_type": "stream",
     "text": [
      "Launching job: cc_trans_fraud_2_offline_fg_materialization\n",
      "Job started successfully, you can follow the progress at \n",
      "https://c.app.hopsworks.ai/p/556180/jobs/named/cc_trans_fraud_2_offline_fg_materialization/executions\n"
     ]
    },
    {
     "data": {
      "text/plain": [
       "(<hsfs.core.job.Job at 0x7fbc74b12410>, None)"
      ]
     },
     "execution_count": 14,
     "metadata": {},
     "output_type": "execute_result"
    }
   ],
   "source": [
    "trans_fg = fs.get_feature_group(name=\"cc_trans_fraud\", version=2)\n",
    "trans_fg.insert(trans_df, write_options={\"wait_for_job\" : False})"
   ]
  },
  {
   "cell_type": "code",
   "execution_count": 15,
   "id": "d81ed056",
   "metadata": {},
   "outputs": [
    {
     "name": "stderr",
     "output_type": "stream",
     "text": [
      "Uploading Dataframe: 100.00% |██████████| Rows 60086/60086 | Elapsed Time: 00:07 | Remaining Time: 00:00\n"
     ]
    },
    {
     "name": "stdout",
     "output_type": "stream",
     "text": [
      "Launching job: cc_trans_fraud_4h_2_offline_fg_materialization\n",
      "Job started successfully, you can follow the progress at \n",
      "https://c.app.hopsworks.ai/p/556180/jobs/named/cc_trans_fraud_4h_2_offline_fg_materialization/executions\n"
     ]
    },
    {
     "data": {
      "text/plain": [
       "(<hsfs.core.job.Job at 0x7fbc754c6390>, None)"
      ]
     },
     "execution_count": 15,
     "metadata": {},
     "output_type": "execute_result"
    }
   ],
   "source": [
    "window_aggs_fg = fs.get_feature_group(name=f\"cc_trans_fraud_{window_len}h\", version=2)\n",
    "window_aggs_fg.insert(window_aggs_df, write_options={\"wait_for_job\" : False})"
   ]
  },
  {
   "cell_type": "code",
   "execution_count": 16,
   "id": "4167a4a7",
   "metadata": {},
   "outputs": [
    {
     "name": "stderr",
     "output_type": "stream",
     "text": [
      "Uploading Dataframe: 100.00% |██████████| Rows 60086/60086 | Elapsed Time: 00:07 | Remaining Time: 00:00\n"
     ]
    },
    {
     "name": "stdout",
     "output_type": "stream",
     "text": [
      "Launching job: transactions_fraud_label_2_offline_fg_materialization\n",
      "Job started successfully, you can follow the progress at \n",
      "https://c.app.hopsworks.ai/p/556180/jobs/named/transactions_fraud_label_2_offline_fg_materialization/executions\n"
     ]
    },
    {
     "data": {
      "text/plain": [
       "(<hsfs.core.job.Job at 0x7fbc74b33750>, None)"
      ]
     },
     "execution_count": 16,
     "metadata": {},
     "output_type": "execute_result"
    }
   ],
   "source": [
    "\n",
    "labels_fg = fs.get_feature_group(name=\"transactions_fraud_label\", version=2)\n",
    "labels_fg.insert(fraud_labels)"
   ]
  },
  {
   "cell_type": "code",
   "execution_count": null,
   "id": "b1c0de4c",
   "metadata": {},
   "outputs": [],
   "source": []
  }
 ],
 "metadata": {
  "interpreter": {
   "hash": "e1ddeae6eefc765c17da80d38ea59b893ab18c0c0904077a035ef84cfe367f83"
  },
  "kernelspec": {
   "display_name": "Python 3 (ipykernel)",
   "language": "python",
   "name": "python3"
  },
  "language_info": {
   "codemirror_mode": {
    "name": "ipython",
    "version": 3
   },
   "file_extension": ".py",
   "mimetype": "text/x-python",
   "name": "python",
   "nbconvert_exporter": "python",
   "pygments_lexer": "ipython3",
   "version": "3.11.8"
  }
 },
 "nbformat": 4,
 "nbformat_minor": 5
}
